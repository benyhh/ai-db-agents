{
 "cells": [
  {
   "cell_type": "code",
   "execution_count": 9,
   "metadata": {},
   "outputs": [],
   "source": [
    "import pandas as pd\n",
    "from sqlalchemy import create_engine\n",
    "from pyprojroot import here\n",
    "import os"
   ]
  },
  {
   "cell_type": "markdown",
   "metadata": {},
   "source": [
    "### Set path to input csv files and output SQL database"
   ]
  },
  {
   "cell_type": "code",
   "execution_count": 18,
   "metadata": {},
   "outputs": [],
   "source": [
    "raw_data_path = here('data/imdb_raw/')\n",
    "files = os.listdir(raw_data_path)\n",
    "\n",
    "\n",
    "sql_db_path = f'sqlite:///{here(\"data/db/imdb.db\")}'\n",
    "engine = create_engine(sql_db_path)"
   ]
  },
  {
   "cell_type": "markdown",
   "metadata": {},
   "source": [
    "### Read csv files and write to SQL database"
   ]
  },
  {
   "cell_type": "code",
   "execution_count": null,
   "metadata": {},
   "outputs": [],
   "source": [
    "for f in files:\n",
    "    df = pd.read_csv(raw_data_path + f, sep='\\t')\n",
    "    df.replace('\\\\N', pd.NA, inplace=True)\n",
    "    df.to_sql(f.rsplit('.', 1)[0], con=engine, if_exists='replace', index=False)"
   ]
  },
  {
   "cell_type": "markdown",
   "metadata": {},
   "source": [
    "### Write sample data to SQL database"
   ]
  },
  {
   "cell_type": "code",
   "execution_count": 19,
   "metadata": {},
   "outputs": [],
   "source": [
    "raw_data_path = here('data/imdb_raw/')\n",
    "sample_db_path = f'sqlite:///{here(\"data/db/imdb_sample.db\")}'\n",
    "\n",
    "engine_sample = create_engine(sample_db_path)"
   ]
  },
  {
   "cell_type": "code",
   "execution_count": null,
   "metadata": {},
   "outputs": [],
   "source": [
    "for f in files:\n",
    "    df = pd.read_csv(raw_data_path + f, sep='\\t').iloc[:20]\n",
    "    df.replace('\\\\N', pd.NA, inplace=True)\n",
    "    df.to_sql(f.rsplit('.', 1)[0], con=engine_sample, if_exists='replace', index=False)"
   ]
  }
 ],
 "metadata": {
  "kernelspec": {
   "display_name": ".venv",
   "language": "python",
   "name": "python3"
  },
  "language_info": {
   "codemirror_mode": {
    "name": "ipython",
    "version": 3
   },
   "file_extension": ".py",
   "mimetype": "text/x-python",
   "name": "python",
   "nbconvert_exporter": "python",
   "pygments_lexer": "ipython3",
   "version": "3.13.2"
  }
 },
 "nbformat": 4,
 "nbformat_minor": 2
}
