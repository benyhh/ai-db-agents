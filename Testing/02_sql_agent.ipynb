{
 "cells": [
  {
   "cell_type": "code",
   "execution_count": null,
   "metadata": {},
   "outputs": [
    {
     "data": {
      "text/plain": [
       "True"
      ]
     },
     "execution_count": 1,
     "metadata": {},
     "output_type": "execute_result"
    }
   ],
   "source": [
    "from langchain_community.utilities import SQLDatabase\n",
    "from langchain.chains import create_sql_query_chain\n",
    "from langchain_core.runnables import RunnablePassthrough\n",
    "from pyprojroot import here\n",
    "from operator import itemgetter\n",
    "from langchain_openai import ChatOpenAI\n",
    "import os\n",
    "from dotenv import load_dotenv\n",
    "load_dotenv()"
   ]
  },
  {
   "cell_type": "markdown",
   "metadata": {},
   "source": [
    "### LLM and DB connections"
   ]
  },
  {
   "cell_type": "code",
   "execution_count": 4,
   "metadata": {},
   "outputs": [],
   "source": [
    "os.environ['OPENAI_API_KEY'] = os.getenv(\"OPENAI_API_KEY\")\n",
    "llm = ChatOpenAI(model=\"gpt-3.5-turbo\", temperature=0)\n"
   ]
  },
  {
   "cell_type": "code",
   "execution_count": null,
   "metadata": {},
   "outputs": [],
   "source": [
    "sqldb_directory = here(\"data/db/imdb_sample.db\")\n",
    "db = SQLDatabase.from_uri(f\"sqlite:///{sqldb_directory}\")"
   ]
  },
  {
   "cell_type": "markdown",
   "metadata": {},
   "source": [
    "### Agent writes SQL query"
   ]
  },
  {
   "cell_type": "code",
   "execution_count": 7,
   "metadata": {},
   "outputs": [],
   "source": [
    "write_query = create_sql_query_chain(\n",
    "    llm, db)"
   ]
  },
  {
   "cell_type": "code",
   "execution_count": 18,
   "metadata": {},
   "outputs": [
    {
     "data": {
      "text/plain": [
       "\"SELECT name FROM sqlite_master WHERE type='table';\""
      ]
     },
     "execution_count": 18,
     "metadata": {},
     "output_type": "execute_result"
    }
   ],
   "source": [
    "question = \"How many tables do I have in the database? and what are their names?\"\n",
    "sql_query = write_query.invoke({\"question\": question})\n",
    "sql_query"
   ]
  },
  {
   "cell_type": "markdown",
   "metadata": {},
   "source": [
    "### Executing query"
   ]
  },
  {
   "cell_type": "code",
   "execution_count": 19,
   "metadata": {},
   "outputs": [
    {
     "data": {
      "text/plain": [
       "\"[('title.ratings',), ('title.principals',), ('title.akas',), ('name.basics',), ('title.basics',), ('title.episode',), ('title.crew',)]\""
      ]
     },
     "execution_count": 19,
     "metadata": {},
     "output_type": "execute_result"
    }
   ],
   "source": [
    "\"\"\" Write and execute query \"\"\"\n",
    "from langchain_community.tools import QuerySQLDataBaseTool\n",
    "\n",
    "execute_query = QuerySQLDataBaseTool(db=db)\n",
    "\n",
    "sql_result = execute_query.invoke({\"query\": sql_query})\n",
    "sql_result\n"
   ]
  },
  {
   "cell_type": "markdown",
   "metadata": {},
   "source": [
    "### LLM answers question"
   ]
  },
  {
   "cell_type": "code",
   "execution_count": null,
   "metadata": {},
   "outputs": [
    {
     "data": {
      "text/plain": [
       "\"You have 7 tables in the database. Their names are 'title.ratings', 'title.principals', 'title.akas', 'name.basics', 'title.basics', 'title.episode', and 'title.crew'.\""
      ]
     },
     "execution_count": 23,
     "metadata": {},
     "output_type": "execute_result"
    }
   ],
   "source": [
    "\"\"\" Answer question in a user friendly way \"\"\"\n",
    "\n",
    "from langchain_core.output_parsers import StrOutputParser\n",
    "from langchain_core.prompts import PromptTemplate\n",
    "\n",
    "answer_prompt = PromptTemplate.from_template(\n",
    "    \"\"\"Given the following user question, corresponding SQL query, and SQL result, answer the users question.\n",
    "\n",
    "Question: {question}\n",
    "SQL Query: {query}\n",
    "SQL Result: {result}\n",
    "Answer: \"\"\" \n",
    ")\n",
    "\n",
    "answer = answer_prompt | llm | StrOutputParser()\n",
    "answer.invoke({\"question\": question, \"query\": sql_query, \"result\": sql_result})"
   ]
  },
  {
   "cell_type": "markdown",
   "metadata": {},
   "source": [
    "### Complete chain"
   ]
  },
  {
   "cell_type": "code",
   "execution_count": 27,
   "metadata": {},
   "outputs": [],
   "source": [
    "system_role = \"\"\"Given the following user question, corresponding SQL query, and SQL result, answer the user question.\\n\n",
    "    Question: {question}\\n\n",
    "    SQL Query: {query}\\n\n",
    "    SQL Result: {result}\\n\n",
    "    Answer:\n",
    "    \"\"\"\n",
    "\n",
    "execute_query = QuerySQLDataBaseTool(db=db)\n",
    "write_query = create_sql_query_chain(\n",
    "    llm, db)\n",
    "answer_prompt = PromptTemplate.from_template(\n",
    "    system_role)\n",
    "answer = answer_prompt | llm | StrOutputParser()\n",
    "chain = (\n",
    "    RunnablePassthrough.assign(query=write_query).assign(\n",
    "        result=itemgetter(\"query\") | execute_query\n",
    "    )\n",
    "    | answer\n",
    ")"
   ]
  },
  {
   "cell_type": "code",
   "execution_count": 28,
   "metadata": {},
   "outputs": [
    {
     "data": {
      "text/plain": [
       "'You have 7 tables in the database. Their names are: title.ratings, title.principals, title.akas, name.basics, title.basics, title.episode, and title.crew.'"
      ]
     },
     "execution_count": 28,
     "metadata": {},
     "output_type": "execute_result"
    }
   ],
   "source": [
    "message = \"How many tables do I have in the database? and what are their names?\"\n",
    "response = chain.invoke({\"question\": message})\n",
    "response"
   ]
  },
  {
   "cell_type": "markdown",
   "metadata": {},
   "source": [
    "## 2. Agents"
   ]
  },
  {
   "cell_type": "code",
   "execution_count": 25,
   "metadata": {},
   "outputs": [],
   "source": [
    "from langchain_community.agent_toolkits import create_sql_agent\n",
    "\n",
    "agent_executor = create_sql_agent(llm, db=db, agent_type=\"openai-tools\", verbose=True)"
   ]
  },
  {
   "cell_type": "code",
   "execution_count": 26,
   "metadata": {},
   "outputs": [
    {
     "name": "stdout",
     "output_type": "stream",
     "text": [
      "\n",
      "\n",
      "\u001b[1m> Entering new SQL Agent Executor chain...\u001b[0m\n",
      "\u001b[32;1m\u001b[1;3m\n",
      "Invoking: `sql_db_list_tables` with `{}`\n",
      "\n",
      "\n",
      "\u001b[0m\u001b[38;5;200m\u001b[1;3mname.basics, title.akas, title.basics, title.crew, title.episode, title.principals, title.ratings\u001b[0m\u001b[32;1m\u001b[1;3m\n",
      "Invoking: `sql_db_schema` with `{'table_names': 'title.ratings, title.basics'}`\n",
      "\n",
      "\n",
      "\u001b[0m\u001b[33;1m\u001b[1;3m\n",
      "CREATE TABLE \"title.basics\" (\n",
      "\ttconst TEXT, \n",
      "\t\"titleType\" TEXT, \n",
      "\t\"primaryTitle\" TEXT, \n",
      "\t\"originalTitle\" TEXT, \n",
      "\t\"isAdult\" BIGINT, \n",
      "\t\"startYear\" TEXT, \n",
      "\t\"endYear\" TEXT, \n",
      "\t\"runtimeMinutes\" TEXT, \n",
      "\tgenres TEXT\n",
      ")\n",
      "\n",
      "/*\n",
      "3 rows from title.basics table:\n",
      "tconst\ttitleType\tprimaryTitle\toriginalTitle\tisAdult\tstartYear\tendYear\truntimeMinutes\tgenres\n",
      "tt0000001\tshort\tCarmencita\tCarmencita\t0\t1894\tNone\t1\tDocumentary,Short\n",
      "tt0000002\tshort\tLe clown et ses chiens\tLe clown et ses chiens\t0\t1892\tNone\t5\tAnimation,Short\n",
      "tt0000003\tshort\tPoor Pierrot\tPauvre Pierrot\t0\t1892\tNone\t5\tAnimation,Comedy,Romance\n",
      "*/\n",
      "\n",
      "\n",
      "CREATE TABLE \"title.ratings\" (\n",
      "\ttconst TEXT, \n",
      "\t\"averageRating\" FLOAT, \n",
      "\t\"numVotes\" BIGINT\n",
      ")\n",
      "\n",
      "/*\n",
      "3 rows from title.ratings table:\n",
      "tconst\taverageRating\tnumVotes\n",
      "tt0000001\t5.7\t2127\n",
      "tt0000002\t5.6\t286\n",
      "tt0000003\t6.5\t2163\n",
      "*/\u001b[0m\u001b[32;1m\u001b[1;3m\n",
      "Invoking: `sql_db_query` with `{'query': 'SELECT tb.primaryTitle, tr.averageRating, tr.numVotes FROM \"title.basics\" tb JOIN \"title.ratings\" tr ON tb.tconst = tr.tconst WHERE tr.numVotes >= 10000 ORDER BY tr.averageRating DESC LIMIT 10'}`\n",
      "\n",
      "\n",
      "\u001b[0m\u001b[36;1m\u001b[1;3m[('The Arrival of a Train', 7.4, 13346)]\u001b[0m\u001b[32;1m\u001b[1;3mThe highest rated movie with at least 10000 votes is \"The Arrival of a Train\" with an average rating of 7.4 and 13346 votes.\u001b[0m\n",
      "\n",
      "\u001b[1m> Finished chain.\u001b[0m\n"
     ]
    },
    {
     "data": {
      "text/plain": [
       "{'input': 'List the highest rated movies, their titles, and the number of votes. The listed movies need to have at least 10000 votes.',\n",
       " 'output': 'The highest rated movie with at least 10000 votes is \"The Arrival of a Train\" with an average rating of 7.4 and 13346 votes.'}"
      ]
     },
     "execution_count": 26,
     "metadata": {},
     "output_type": "execute_result"
    }
   ],
   "source": [
    "agent_executor.invoke(\n",
    "    {\n",
    "        \"input\": \"List the highest rated movies, their titles, and the number of votes. The listed movies need to have at least 10000 votes.\"\n",
    "    }\n",
    ")"
   ]
  },
  {
   "cell_type": "code",
   "execution_count": 29,
   "metadata": {},
   "outputs": [
    {
     "name": "stdout",
     "output_type": "stream",
     "text": [
      "\n",
      "\n",
      "\u001b[1m> Entering new SQL Agent Executor chain...\u001b[0m\n",
      "\u001b[32;1m\u001b[1;3m\n",
      "Invoking: `sql_db_list_tables` with `{}`\n",
      "\n",
      "\n",
      "\u001b[0m\u001b[38;5;200m\u001b[1;3mname.basics, title.akas, title.basics, title.crew, title.episode, title.principals, title.ratings\u001b[0m\u001b[32;1m\u001b[1;3m\n",
      "Invoking: `sql_db_schema` with `{'table_names': 'title.ratings'}`\n",
      "\n",
      "\n",
      "\u001b[0m\u001b[33;1m\u001b[1;3m\n",
      "CREATE TABLE \"title.ratings\" (\n",
      "\ttconst TEXT, \n",
      "\t\"averageRating\" FLOAT, \n",
      "\t\"numVotes\" BIGINT\n",
      ")\n",
      "\n",
      "/*\n",
      "3 rows from title.ratings table:\n",
      "tconst\taverageRating\tnumVotes\n",
      "tt0000001\t5.7\t2127\n",
      "tt0000002\t5.6\t286\n",
      "tt0000003\t6.5\t2163\n",
      "*/\u001b[0m\u001b[32;1m\u001b[1;3m\n",
      "Invoking: `sql_db_query` with `{'query': 'SELECT tconst, averageRating, numVotes FROM \"title.ratings\" WHERE numVotes >= 10000 ORDER BY averageRating DESC LIMIT 10'}`\n",
      "\n",
      "\n",
      "\u001b[0m\u001b[36;1m\u001b[1;3m[('tt0000012', 7.4, 13346)]\u001b[0m\u001b[32;1m\u001b[1;3mThe highest rated movie with at least 10000 votes is the movie with the title \"tt0000012\" and an average rating of 7.4 with 13346 votes.\u001b[0m\n",
      "\n",
      "\u001b[1m> Finished chain.\u001b[0m\n"
     ]
    },
    {
     "data": {
      "text/plain": [
       "'The highest rated movie with at least 10000 votes is the movie with the title \"tt0000012\" with an average rating of 7.4 and a total of 13346 votes.'"
      ]
     },
     "execution_count": 29,
     "metadata": {},
     "output_type": "execute_result"
    }
   ],
   "source": [
    "\n",
    "answer_prompt = PromptTemplate.from_template(\n",
    "    \"\"\"Given the following user question, and SQL result, answer the users question.\n",
    "\n",
    "Question: {input}\n",
    "SQL Result: {output}\n",
    "Answer: \"\"\"\n",
    ")\n",
    "\n",
    "answer = answer_prompt | llm | StrOutputParser()\n",
    "chain = agent_executor | answer\n",
    "\n",
    "chain.invoke({\"input\": \"List the highest rated movies, their titles, and the number of votes. The listed movies need to have at least 10000 votes.\"})\n"
   ]
  }
 ],
 "metadata": {
  "kernelspec": {
   "display_name": ".venv",
   "language": "python",
   "name": "python3"
  },
  "language_info": {
   "codemirror_mode": {
    "name": "ipython",
    "version": 3
   },
   "file_extension": ".py",
   "mimetype": "text/x-python",
   "name": "python",
   "nbconvert_exporter": "python",
   "pygments_lexer": "ipython3",
   "version": "3.13.2"
  }
 },
 "nbformat": 4,
 "nbformat_minor": 2
}
