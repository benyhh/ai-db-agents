{
 "cells": [
  {
   "cell_type": "code",
   "execution_count": 1,
   "metadata": {},
   "outputs": [
    {
     "data": {
      "text/plain": [
       "True"
      ]
     },
     "execution_count": 1,
     "metadata": {},
     "output_type": "execute_result"
    }
   ],
   "source": [
    "from langchain_community.utilities import SQLDatabase\n",
    "from langchain.chains import create_sql_query_chain\n",
    "from langchain_community.tools.sql_database.tool import QuerySQLDataBaseTool\n",
    "from langchain_community.agent_toolkits import create_sql_agent\n",
    "from langchain_core.prompts import PromptTemplate\n",
    "from langchain_core.output_parsers import StrOutputParser\n",
    "from langchain_core.runnables import RunnablePassthrough\n",
    "from langchain_openai import ChatOpenAI, OpenAIEmbeddings\n",
    "from pyprojroot import here\n",
    "from operator import itemgetter\n",
    "import chromadb\n",
    "import os\n",
    "from dotenv import load_dotenv\n",
    "load_dotenv()"
   ]
  },
  {
   "cell_type": "markdown",
   "metadata": {},
   "source": [
    "### Comparing RAG and SQL Agent for different questions"
   ]
  },
  {
   "cell_type": "code",
   "execution_count": null,
   "metadata": {},
   "outputs": [],
   "source": [
    "question1 = \"What is the lowest rated movies with more than 1 million votes?\"\n",
    "question2 = \"How many movies have Tom Hanks played in?\"\n",
    "question3 = \"Name two actors that have played together in more than 4 movies.\"\n",
    "question4 = \"Name two popular movies about chess.\""
   ]
  },
  {
   "cell_type": "markdown",
   "metadata": {},
   "source": [
    "### SQL"
   ]
  },
  {
   "cell_type": "code",
   "execution_count": null,
   "metadata": {},
   "outputs": [],
   "source": [
    "os.environ['OPENAI_API_KEY'] = os.getenv(\"OPENAI_API_KEY\")\n",
    "llm = ChatOpenAI(model=\"gpt-3.5-turbo\", temperature=0)\n"
   ]
  },
  {
   "cell_type": "code",
   "execution_count": null,
   "metadata": {},
   "outputs": [],
   "source": [
    "sqldb_directory = here(\"data/db/imdb.db\")\n",
    "db = SQLDatabase.from_uri(f\"sqlite:///{sqldb_directory}\")"
   ]
  },
  {
   "cell_type": "markdown",
   "metadata": {},
   "source": [
    "### Simple SQL query writer"
   ]
  },
  {
   "cell_type": "code",
   "execution_count": null,
   "metadata": {},
   "outputs": [],
   "source": [
    "system_role = \"\"\"Given the following user question, corresponding SQL query, and SQL result, answer the user question.\\n\n",
    "    Question: {question}\\n\n",
    "    SQL Query: {query}\\n\n",
    "    SQL Result: {result}\\n\n",
    "    Answer:\n",
    "    \"\"\"\n",
    "\n",
    "execute_query = QuerySQLDataBaseTool(db=db)\n",
    "write_query = create_sql_query_chain(llm, db)\n",
    "answer_prompt = PromptTemplate.from_template(system_role)\n",
    "answer = answer_prompt | llm | StrOutputParser()\n",
    "\n",
    "chain = (\n",
    "    RunnablePassthrough.assign(query=write_query)\n",
    "    .assign(result=itemgetter(\"query\") | execute_query)\n",
    "    .assign(answer=answer)\n",
    ")\n",
    "\n"
   ]
  },
  {
   "cell_type": "code",
   "execution_count": null,
   "metadata": {},
   "outputs": [],
   "source": [
    "system_role = \"\"\"Given the following user question, corresponding SQL query, and SQL result, answer the user question.\\n\n",
    "    Question: {question}\\n\n",
    "    SQL Query: {query}\\n\n",
    "    SQL Result: {result}\\n\n",
    "    Answer:\n",
    "    \"\"\"\n",
    "\n",
    "execute_query = QuerySQLDataBaseTool(db=db)\n",
    "write_query = create_sql_query_chain(\n",
    "    llm, db)\n",
    "answer_prompt = PromptTemplate.from_template(\n",
    "    system_role)\n",
    "answer = answer_prompt | llm | StrOutputParser()\n",
    "\n",
    "chain = (\n",
    "    RunnablePassthrough.assign(query=write_query)\n",
    "    .assign(result=itemgetter(\"query\") | execute_query)\n",
    "    .assign(answer=answer)\n",
    ")"
   ]
  },
  {
   "cell_type": "code",
   "execution_count": 32,
   "metadata": {},
   "outputs": [],
   "source": [
    "response1 = chain.invoke({\"question\": question1})\n"
   ]
  },
  {
   "cell_type": "code",
   "execution_count": 33,
   "metadata": {},
   "outputs": [
    {
     "data": {
      "text/plain": [
       "{'question': 'What is the lowest rated movies with more than 1 million votes?',\n",
       " 'query': 'SELECT tb.\"primaryTitle\", tr.\"averageRating\", tr.\"numVotes\"\\nFROM \"title.basics\" tb\\nJOIN \"title.ratings\" tr ON tb.tconst = tr.tconst\\nWHERE tr.\"numVotes\" > 1000000\\nORDER BY tr.\"averageRating\" ASC\\nLIMIT 5;',\n",
       " 'result': \"[('The Hunger Games', 7.2, 1031437), ('Titanic', 7.9, 1325403), ('Iron Man', 7.9, 1159536), ('Avatar', 7.9, 1419190), ('The Avengers', 8.0, 1494463)]\",\n",
       " 'answer': 'The lowest rated movies with more than 1 million votes are:\\n1. The Hunger Games with an average rating of 7.2 and 1,031,437 votes\\n2. Titanic with an average rating of 7.9 and 1,325,403 votes\\n3. Iron Man with an average rating of 7.9 and 1,159,536 votes\\n4. Avatar with an average rating of 7.9 and 1,419,190 votes\\n5. The Avengers with an average rating of 8.0 and 1,494,463 votes'}"
      ]
     },
     "execution_count": 33,
     "metadata": {},
     "output_type": "execute_result"
    }
   ],
   "source": [
    "response1"
   ]
  },
  {
   "cell_type": "code",
   "execution_count": null,
   "metadata": {},
   "outputs": [],
   "source": [
    "response = chain.invoke({\"question\": question2})\n",
    "response"
   ]
  },
  {
   "cell_type": "code",
   "execution_count": null,
   "metadata": {},
   "outputs": [],
   "source": [
    "response = chain.invoke({\"question\": question3})\n",
    "response"
   ]
  },
  {
   "cell_type": "code",
   "execution_count": null,
   "metadata": {},
   "outputs": [],
   "source": [
    "response = chain.invoke({\"question\": question4}, config={\"verbose\": True})\n",
    "response"
   ]
  },
  {
   "cell_type": "markdown",
   "metadata": {},
   "source": [
    "### LangChain SQL Agent"
   ]
  },
  {
   "cell_type": "code",
   "execution_count": null,
   "metadata": {},
   "outputs": [],
   "source": [
    "agent_executor = create_sql_agent(\n",
    "    llm, \n",
    "    db=db, \n",
    "    agent_type=\"openai-tools\", \n",
    "    verbose=True, \n",
    "    system_message=\"You are an advanced SQL agent. Your task is to generate accurate and efficient SQL queries to answer user questions based on the database schema and data. The database is the IMDB database with multiple tables and information about movies and tv shows. Do not use the id of actors and movies in the result (e.g. tt00001 and nm000001), instead find the real names.\"\n",
    ")"
   ]
  },
  {
   "cell_type": "code",
   "execution_count": null,
   "metadata": {},
   "outputs": [],
   "source": [
    "response1_sql = agent_executor.invoke({\"input\": question1})"
   ]
  },
  {
   "cell_type": "code",
   "execution_count": null,
   "metadata": {},
   "outputs": [],
   "source": [
    "response2_sql = agent_executor.invoke({\"input\": question2})"
   ]
  },
  {
   "cell_type": "code",
   "execution_count": null,
   "metadata": {},
   "outputs": [],
   "source": [
    "response3_sql = agent_executor.invoke({\"input\": question3})"
   ]
  },
  {
   "cell_type": "code",
   "execution_count": null,
   "metadata": {},
   "outputs": [],
   "source": [
    "response4_sql = agent_executor.invoke({\"input\": question4})"
   ]
  },
  {
   "cell_type": "markdown",
   "metadata": {},
   "source": [
    "### RAG"
   ]
  },
  {
   "cell_type": "code",
   "execution_count": null,
   "metadata": {},
   "outputs": [],
   "source": [
    "chroma_client = chromadb.PersistentClient(path=here(\"data/db/chroma\"))\n",
    "collection_name = \"imdb\"\n",
    "collection = chroma_client.get_collection(collection_name)"
   ]
  },
  {
   "cell_type": "code",
   "execution_count": 38,
   "metadata": {},
   "outputs": [],
   "source": [
    "embedding_client = OpenAIEmbeddings(\n",
    "    model=\"text-embedding-3-small\",\n",
    "    # With the `text-embedding-3` class\n",
    "    # of models, you can specify the size\n",
    "    # of the embeddings you want returned.\n",
    "    # dimensions=1024\n",
    ")"
   ]
  },
  {
   "cell_type": "code",
   "execution_count": 50,
   "metadata": {},
   "outputs": [],
   "source": [
    "question1_embedding = embedding_client.embed_query(question1)\n",
    "question1_vector_search = collection.query(\n",
    "    query_embeddings = question1_embedding,\n",
    "    n_results=3 #top_k\n",
    ")\n",
    "vector_db_results = str(question1_vector_search[\"documents\"])"
   ]
  },
  {
   "cell_type": "code",
   "execution_count": 51,
   "metadata": {},
   "outputs": [
    {
     "data": {
      "text/plain": [
       "'[[\\'\\\\nTitle: 537 Votes (2020)\\\\nType: movie\\\\nRuntime: 109.0 minutes\\\\nGenres: Documentary\\\\nIMDb Rating: 7.2 (Votes: 930)\\\\n\\\\nCast & Crew:\\\\nName:Ben Affleck 1972, characters:[\"Self\"], job:archive_footage\\\\nName:Fernand Amandi None, characters:[\"Self\"], job:self\\\\nName:Ann Louise Bardach None, characters:[\"Self\"], job:self\\\\nName:Mitchell Berger None, characters:[\"Self\"], job:self\\\\nName:Brad Blakeman None, characters:[\"Self\"], job:self\\\\nName:Jon Bon Jovi 1962, characters:[\"Self\"], job:archive_footage\\\\nName:George W. Bush 1946, characters:[\"Self\"], job:archive_footage\\\\nName:Fidel Castro 1926, characters:[\"Self\"], job:archive_footage\\\\nName:Dave Chappelle 1973, characters:[\"Self\"], job:archive_footage\\\\nName:Bill Clinton 1946, characters:[\"Self\"], job:archive_footage\\\\nName:Billy Corben 1978, characters:None, job:director\\\\nName:Billy Corben 1978, characters:None, job:producer\\\\nName:Alfred Spellman 1978, characters:None, job:producer\\\\nName:Brian Robertson None, characters:None, job:composer\\\\nName:Jonathan Franklin None, characters:None, job:cinematographer\\\\nName:Harris Mendheim None, characters:None, job:editor\\\\n    \\', \\'\\\\nTitle: This Film Is Not Yet Rated (2006)\\\\nType: movie\\\\nRuntime: 98.0 minutes\\\\nGenres: Documentary\\\\nIMDb Rating: 7.4 (Votes: 28793)\\\\n\\\\nCast & Crew:\\\\nName:Kirby Dick 1952, characters:[\"Self - Filmmaker and Interviewer\"], job:self\\\\nName:Kimberly Peirce 1967, characters:[\"Self - Director of \\\\\\'Boys Don\\\\\\'t Cry\\\\\\'\"], job:self\\\\nName:Darren Aronofsky 1969, characters:[\"Self - Director of \\\\\\'Requiem for a Dream\\\\\\'\"], job:self\\\\nName:Atom Egoyan 1960, characters:[\"Self - Director of \\\\\\'Where the Truth lies\\\\\\'\"], job:self\\\\nName:Jon Lewis None, characters:[\"Self - Author of \\\\\\'Hollywood v. Hardcore\\\\\\'\"], job:self\\\\nName:David Ansen None, characters:[\"Self - Film Critic at \\\\\\'Newsweek\\\\\\'\"], job:self\\\\nName:Martin Garbus 1934, characters:[\"Self - First Amendment Attorney and Filmmakers Representative at Appeals\"], job:self\\\\nName:Wayne Kramer 1965, characters:[\"Self - Director of \\\\\\'The Cooler\\\\\\'\"], job:self\\\\nName:Paul Dergarabedian None, characters:[\"Self - Box Office Analyst\"], job:self\\\\nName:Kevin Smith 1970, characters:[\"Self - Director of \\\\\\'Clerks\\\\\\' and \\\\\\'Jersey Girl\\\\\\'\"], job:self\\\\nName:Kirby Dick 1952, characters:None, job:director\\\\nName:Kirby Dick 1952, characters:None, job:writer\\\\nName:Eddie Schmidt None, characters:None, job:writer\\\\nName:Matt Patterson None, characters:None, job:writer\\\\nName:Eddie Schmidt None, characters:None, job:producer\\\\nName:Shana Hagan None, characters:None, job:cinematographer\\\\nName:Kirsten Johnson 1965, characters:None, job:cinematographer\\\\nName:Amy Vincent 1959, characters:None, job:cinematographer\\\\nName:Matthew Wispy Clarke None, characters:None, job:editor\\\\n    \\', \\'\\\\nTitle: Best Worst Movie (2009)\\\\nType: movie\\\\nRuntime: 93.0 minutes\\\\nGenres: Comedy,Documentary\\\\nIMDb Rating: 7.2 (Votes: 8645)\\\\n\\\\nCast & Crew:\\\\nName:George Hardy 1954, characters:[\"Self\"], job:self\\\\nName:George Hardy 1954, characters:[\"Interviewee - Actor\"], job:self\\\\nName:Pita Ray None, characters:[\"Self\"], job:self\\\\nName:Pita Ray None, characters:[\"Interviewee\"], job:self\\\\nName:Micki Knox None, characters:[\"Self\"], job:self\\\\nName:Micki Knox None, characters:[\"Interviewee\"], job:self\\\\nName:Tommy Bice None, characters:[\"Self\"], job:self\\\\nName:Tommy Bice None, characters:[\"Interviewee - Superintendent, Alexander City Schools\"], job:self\\\\nName:Lila Graves None, characters:[\"Self\"], job:self\\\\nName:Lila Graves None, characters:[\"Interviewee - George\\\\\\'s Friend\"], job:self\\\\nName:Laura Gulledge None, characters:[\"Self\"], job:self\\\\nName:Laura Gulledge None, characters:[\"Interviewee - George\\\\\\'s Friend\"], job:self\\\\nName:Merry Hardy None, characters:[\"Self\"], job:self\\\\nName:Merry Hardy None, characters:[\"Interviewee - George\\\\\\'s Ex-Wife\"], job:self\\\\nName:Barbara H. Young None, characters:[\"Self\"], job:self\\\\nName:Barbara H. Young None, characters:[\"Interviewee - Mayor of Alexander City\"], job:self\\\\nName:Mary Ann Hardy None, characters:[\"Self\"], job:self\\\\nName:Mary Ann Hardy None, characters:[\"Interviewee - George\\\\\\'s Mother\"], job:self\\\\nName:Wade Jones None, characters:[\"Self\"], job:self\\\\nName:Wade Jones None, characters:[\"Interviewee - Convenience Store Owner\"], job:self\\\\nName:Michael Paul Stephenson None, characters:None, job:director\\\\nName:Brad Klopman None, characters:None, job:producer\\\\nName:Jim Klopman None, characters:None, job:producer\\\\nName:Lindsay Stephenson None, characters:None, job:producer\\\\nName:Michael Paul Stephenson None, characters:None, job:producer\\\\nName:Bobby Tahouri None, characters:None, job:composer\\\\nName:Katie Graham None, characters:None, job:cinematographer\\\\nName:Carl Indriago None, characters:None, job:cinematographer\\\\nName:Katie Graham None, characters:None, job:editor\\\\nName:Andrew Matthews None, characters:None, job:editor\\\\n    \\']]'"
      ]
     },
     "execution_count": 51,
     "metadata": {},
     "output_type": "execute_result"
    }
   ],
   "source": [
    "vector_db_results"
   ]
  },
  {
   "cell_type": "code",
   "execution_count": 68,
   "metadata": {},
   "outputs": [],
   "source": [
    "\n",
    "\n",
    "system_role = \"\"\"Given the following user question, and corresponding results from the vector databse, answer the user question.\\n\n",
    "If the vector search results are not related to the question, say \"I don't know\".\\n\n",
    "\n",
    "Question: {question}\\n\n",
    "Vector search results: {result}\\n\n",
    "Answer:\n",
    "\"\"\"\n",
    "    \n",
    "answer_prompt = PromptTemplate.from_template(system_role)\n",
    "answer = answer_prompt | llm | StrOutputParser()\n",
    "chain = (\n",
    "    RunnablePassthrough.assign(embedding=lambda x: embedding_client.embed_query(x[\"question\"]))\n",
    "    .assign(vector_search=lambda x: collection.query(query_embeddings=x[\"embedding\"], n_results=3))\n",
    "    .assign(result=lambda x: str(x[\"vector_search\"][\"documents\"]))\n",
    "    .assign(answer=answer)\n",
    ")"
   ]
  },
  {
   "cell_type": "code",
   "execution_count": 74,
   "metadata": {},
   "outputs": [
    {
     "name": "stdout",
     "output_type": "stream",
     "text": [
      "[['\\nTitle: 537 Votes (2020)\\nType: movie\\nRuntime: 109.0 minutes\\nGenres: Documentary\\nIMDb Rating: 7.2 (Votes: 930)\\n\\nCast & Crew:\\nName:Ben Affleck 1972, characters:[\"Self\"], job:archive_footage\\nName:Fernand Amandi None, characters:[\"Self\"], job:self\\nName:Ann Louise Bardach None, characters:[\"Self\"], job:self\\nName:Mitchell Berger None, characters:[\"Self\"], job:self\\nName:Brad Blakeman None, characters:[\"Self\"], job:self\\nName:Jon Bon Jovi 1962, characters:[\"Self\"], job:archive_footage\\nName:George W. Bush 1946, characters:[\"Self\"], job:archive_footage\\nName:Fidel Castro 1926, characters:[\"Self\"], job:archive_footage\\nName:Dave Chappelle 1973, characters:[\"Self\"], job:archive_footage\\nName:Bill Clinton 1946, characters:[\"Self\"], job:archive_footage\\nName:Billy Corben 1978, characters:None, job:director\\nName:Billy Corben 1978, characters:None, job:producer\\nName:Alfred Spellman 1978, characters:None, job:producer\\nName:Brian Robertson None, characters:None, job:composer\\nName:Jonathan Franklin None, characters:None, job:cinematographer\\nName:Harris Mendheim None, characters:None, job:editor\\n    ', '\\nTitle: This Film Is Not Yet Rated (2006)\\nType: movie\\nRuntime: 98.0 minutes\\nGenres: Documentary\\nIMDb Rating: 7.4 (Votes: 28793)\\n\\nCast & Crew:\\nName:Kirby Dick 1952, characters:[\"Self - Filmmaker and Interviewer\"], job:self\\nName:Kimberly Peirce 1967, characters:[\"Self - Director of \\'Boys Don\\'t Cry\\'\"], job:self\\nName:Darren Aronofsky 1969, characters:[\"Self - Director of \\'Requiem for a Dream\\'\"], job:self\\nName:Atom Egoyan 1960, characters:[\"Self - Director of \\'Where the Truth lies\\'\"], job:self\\nName:Jon Lewis None, characters:[\"Self - Author of \\'Hollywood v. Hardcore\\'\"], job:self\\nName:David Ansen None, characters:[\"Self - Film Critic at \\'Newsweek\\'\"], job:self\\nName:Martin Garbus 1934, characters:[\"Self - First Amendment Attorney and Filmmakers Representative at Appeals\"], job:self\\nName:Wayne Kramer 1965, characters:[\"Self - Director of \\'The Cooler\\'\"], job:self\\nName:Paul Dergarabedian None, characters:[\"Self - Box Office Analyst\"], job:self\\nName:Kevin Smith 1970, characters:[\"Self - Director of \\'Clerks\\' and \\'Jersey Girl\\'\"], job:self\\nName:Kirby Dick 1952, characters:None, job:director\\nName:Kirby Dick 1952, characters:None, job:writer\\nName:Eddie Schmidt None, characters:None, job:writer\\nName:Matt Patterson None, characters:None, job:writer\\nName:Eddie Schmidt None, characters:None, job:producer\\nName:Shana Hagan None, characters:None, job:cinematographer\\nName:Kirsten Johnson 1965, characters:None, job:cinematographer\\nName:Amy Vincent 1959, characters:None, job:cinematographer\\nName:Matthew Wispy Clarke None, characters:None, job:editor\\n    ', '\\nTitle: Best Worst Movie (2009)\\nType: movie\\nRuntime: 93.0 minutes\\nGenres: Comedy,Documentary\\nIMDb Rating: 7.2 (Votes: 8645)\\n\\nCast & Crew:\\nName:George Hardy 1954, characters:[\"Self\"], job:self\\nName:George Hardy 1954, characters:[\"Interviewee - Actor\"], job:self\\nName:Pita Ray None, characters:[\"Self\"], job:self\\nName:Pita Ray None, characters:[\"Interviewee\"], job:self\\nName:Micki Knox None, characters:[\"Self\"], job:self\\nName:Micki Knox None, characters:[\"Interviewee\"], job:self\\nName:Tommy Bice None, characters:[\"Self\"], job:self\\nName:Tommy Bice None, characters:[\"Interviewee - Superintendent, Alexander City Schools\"], job:self\\nName:Lila Graves None, characters:[\"Self\"], job:self\\nName:Lila Graves None, characters:[\"Interviewee - George\\'s Friend\"], job:self\\nName:Laura Gulledge None, characters:[\"Self\"], job:self\\nName:Laura Gulledge None, characters:[\"Interviewee - George\\'s Friend\"], job:self\\nName:Merry Hardy None, characters:[\"Self\"], job:self\\nName:Merry Hardy None, characters:[\"Interviewee - George\\'s Ex-Wife\"], job:self\\nName:Barbara H. Young None, characters:[\"Self\"], job:self\\nName:Barbara H. Young None, characters:[\"Interviewee - Mayor of Alexander City\"], job:self\\nName:Mary Ann Hardy None, characters:[\"Self\"], job:self\\nName:Mary Ann Hardy None, characters:[\"Interviewee - George\\'s Mother\"], job:self\\nName:Wade Jones None, characters:[\"Self\"], job:self\\nName:Wade Jones None, characters:[\"Interviewee - Convenience Store Owner\"], job:self\\nName:Michael Paul Stephenson None, characters:None, job:director\\nName:Brad Klopman None, characters:None, job:producer\\nName:Jim Klopman None, characters:None, job:producer\\nName:Lindsay Stephenson None, characters:None, job:producer\\nName:Michael Paul Stephenson None, characters:None, job:producer\\nName:Bobby Tahouri None, characters:None, job:composer\\nName:Katie Graham None, characters:None, job:cinematographer\\nName:Carl Indriago None, characters:None, job:cinematographer\\nName:Katie Graham None, characters:None, job:editor\\nName:Andrew Matthews None, characters:None, job:editor\\n    ']]\n",
      "I don't know\n"
     ]
    }
   ],
   "source": [
    "response1 = chain.invoke({\"question\": question1})\n",
    "print(response1[\"result\"])\n",
    "print(response1[\"answer\"])"
   ]
  },
  {
   "cell_type": "code",
   "execution_count": 75,
   "metadata": {},
   "outputs": [
    {
     "name": "stdout",
     "output_type": "stream",
     "text": [
      "[['\\nTitle: Cast Away (2000)\\nType: movie\\nRuntime: 143.0 minutes\\nGenres: Adventure,Drama,Romance\\nIMDb Rating: 7.8 (Votes: 658740)\\n\\nCast & Crew:\\nName:Tom Hanks 1956, characters:[\"Chuck Noland\"], job:actor\\nName:Helen Hunt 1963, characters:[\"Kelly Frears\"], job:actress\\nName:Paul Sanchez None, characters:[\"Ramon\"], job:actor\\nName:Lari White 1965, characters:[\"Bettina Peterson\"], job:actress\\nName:Leonid Citer 1960, characters:[\"Fyodor\"], job:actor\\nName:David Allen Brooks 1947, characters:[\"Dick Peterson\"], job:actor\\nName:Yelena Popovic None, characters:[\"Beautiful Russian Woman\"], job:actress\\nName:Valentina Ananina 1933, characters:[\"Russian Babushka\"], job:actress\\nName:Semion Sudarikov None, characters:[\"Nicolai\"], job:actor\\nName:Peter Von Berg 1947, characters:[\"Yuri\"], job:actor\\nName:Robert Zemeckis 1952, characters:None, job:director\\nName:William Broyles Jr. 1944, characters:None, job:writer\\nName:Tom Hanks 1956, characters:None, job:producer\\nName:Jack Rapke None, characters:None, job:producer\\nName:Steve Starkey None, characters:None, job:producer\\nName:Robert Zemeckis 1952, characters:None, job:producer\\nName:Alan Silvestri 1950, characters:None, job:composer\\nName:Don Burgess 1956, characters:None, job:cinematographer\\nName:Arthur Schmidt 1937, characters:None, job:editor\\nName:Victoria Burrows None, characters:None, job:casting_director\\nName:Rick Carter 1952, characters:None, job:production_designer\\n    ', '\\nTitle: Captain Phillips (2013)\\nType: movie\\nRuntime: 134.0 minutes\\nGenres: Action,Biography,Crime\\nIMDb Rating: 7.8 (Votes: 504383)\\n\\nCast & Crew:\\nName:Tom Hanks 1956, characters:[\"Captain Richard Phillips\"], job:actor\\nName:Barkhad Abdi 1985, characters:[\"Muse\"], job:actor\\nName:Barkhad Abdirahman 1994, characters:[\"Bilal\"], job:actor\\nName:Catherine Keener 1959, characters:[\"Andrea Phillips\"], job:actress\\nName:Faysal Ahmed None, characters:[\"Najee\"], job:actor\\nName:Mahat M. Ali None, characters:[\"Elmi\"], job:actor\\nName:Michael Chernus 1977, characters:[\"Shane Murphy\"], job:actor\\nName:David Warshofsky 1961, characters:[\"Mike Perry\"], job:actor\\nName:Corey Johnson 1961, characters:[\"Ken Quinn\"], job:actor\\nName:Chris Mulkey None, characters:[\"John Cronan\"], job:actor\\nName:Paul Greengrass 1955, characters:None, job:director\\nName:Billy Ray None, characters:None, job:writer\\nName:Richard Phillips None, characters:None, job:writer\\nName:Stephan Talty None, characters:None, job:writer\\nName:Dana Brunetti 1973, characters:None, job:producer\\nName:Michael De Luca 1965, characters:None, job:producer\\nName:Scott Rudin 1958, characters:None, job:producer\\nName:Henry Jackman 1974, characters:None, job:composer\\nName:Barry Ackroyd 1954, characters:None, job:cinematographer\\nName:Christopher Rouse 1958, characters:None, job:editor\\nName:Francine Maisler None, characters:None, job:casting_director\\nName:Paul Kirby None, characters:None, job:production_designer\\n    ', '\\nTitle: That Thing You Do! (1996)\\nType: movie\\nRuntime: 108.0 minutes\\nGenres: Comedy,Drama,Music\\nIMDb Rating: 7.0 (Votes: 75621)\\n\\nCast & Crew:\\nName:Tom Hanks 1956, characters:[\"Mr. White\"], job:actor\\nName:Liv Tyler 1977, characters:[\"Faye Dolan\"], job:actress\\nName:Charlize Theron 1975, characters:[\"Tina\"], job:actress\\nName:Tom Everett Scott 1970, characters:[\"Guy Patterson\"], job:actor\\nName:Johnathon Schaech 1969, characters:[\"Jimmy\"], job:actor\\nName:Steve Zahn 1967, characters:[\"Lenny\"], job:actor\\nName:Ethan Embry 1978, characters:[\"The Bass Player\"], job:actor\\nName:Obba Babatundé 1950, characters:[\"Lamarr\"], job:actor\\nName:Giovanni Ribisi 1974, characters:[\"Chad\"], job:actor\\nName:Chris Ellis 1949, characters:[\"Horace\"], job:actor\\nName:Tom Hanks 1956, characters:None, job:director\\nName:Tom Hanks 1956, characters:None, job:writer\\nName:Jonathan Demme 1944, characters:None, job:producer\\nName:Gary Goetzman 1952, characters:None, job:producer\\nName:Edward Saxon None, characters:None, job:producer\\nName:Howard Shore 1946, characters:None, job:composer\\nName:Tak Fujimoto 1939, characters:None, job:cinematographer\\nName:Richard Chew 1940, characters:None, job:editor\\nName:Howard Feuer 1948, characters:None, job:casting_director\\nName:Victor Kempster None, characters:None, job:production_designer\\n    ']]\n",
      "Tom Hanks has played in 3 movies.\n"
     ]
    }
   ],
   "source": [
    "reseponse2 = chain.invoke({\"question\": question2})\n",
    "print(reseponse2[\"result\"])\n",
    "print(reseponse2[\"answer\"])"
   ]
  },
  {
   "cell_type": "code",
   "execution_count": 76,
   "metadata": {},
   "outputs": [
    {
     "name": "stdout",
     "output_type": "stream",
     "text": [
      "[['\\nTitle: Four Friends (1981)\\nType: movie\\nRuntime: 114.0 minutes\\nGenres: Comedy,Drama\\nIMDb Rating: 7.0 (Votes: 2082)\\n\\nCast & Crew:\\nName:Craig Wasson 1954, characters:[\"Danilo\"], job:actor\\nName:Jodi Thelen 1962, characters:[\"Georgia\"], job:actress\\nName:Michael Huddleston 1952, characters:[\"David\"], job:actor\\nName:Jim Metzler 1951, characters:[\"Tom\"], job:actor\\nName:Scott Hardt None, characters:[\"Young Danilo\"], job:actor\\nName:Elizabeth Lawrence 1922, characters:[\"Mrs. Prozor\"], job:actress\\nName:Miklos Simon None, characters:[\"Mr. Prozor\"], job:actor\\nName:Michael Kovacs None, characters:[\"Prozor Neighbor\"], job:actor\\nName:Beatrice Fredman 1918, characters:[\"Mrs. Zoldos\"], job:actress\\nName:Pier Calabria None, characters:[\"Conductor\"], job:actress\\nName:Arthur Penn 1922, characters:None, job:director\\nName:Steve Tesich 1942, characters:None, job:writer\\nName:Gene Lasko 1929, characters:None, job:producer\\nName:Arthur Penn 1922, characters:None, job:producer\\nName:Elizabeth Swados 1951, characters:None, job:composer\\nName:Ghislain Cloquet 1924, characters:None, job:cinematographer\\nName:Marc Laub None, characters:None, job:editor\\nName:Barry Malkin 1938, characters:None, job:editor\\nName:David Chapman None, characters:None, job:production_designer\\n    ', '\\nTitle: Multiplicity (1996)\\nType: movie\\nRuntime: 117.0 minutes\\nGenres: Comedy,Romance,Sci-Fi\\nIMDb Rating: 6.1 (Votes: 36065)\\n\\nCast & Crew:\\nName:Michael Keaton 1951, characters:[\"Doug Kinney\"], job:actor\\nName:Andie MacDowell 1958, characters:[\"Laura Kinney\"], job:actress\\nName:Zack Duhame 1987, characters:[\"Zack Kinney\"], job:actor\\nName:Katie Schlossberg None, characters:[\"Jennifer Kinney\"], job:actress\\nName:Harris Yulin 1937, characters:[\"Dr. Leeds\"], job:actor\\nName:Richard Masur 1948, characters:[\"Del King\"], job:actor\\nName:Eugene Levy 1946, characters:[\"Vic\"], job:actor\\nName:Ann Cusack 1961, characters:[\"Noreen\"], job:actress\\nName:John de Lancie 1948, characters:[\"Ted\"], job:actor\\nName:Judith Kahan 1948, characters:[\"Franny\"], job:actress\\nName:Harold Ramis 1944, characters:None, job:director\\nName:Chris Miller 1942, characters:None, job:writer\\nName:Mary Hale None, characters:None, job:writer\\nName:Lowell Ganz 1948, characters:None, job:writer\\nName:Babaloo Mandel 1949, characters:None, job:writer\\nName:Trevor Albert None, characters:None, job:producer\\nName:Harold Ramis 1944, characters:None, job:producer\\nName:George Fenton 1949, characters:None, job:composer\\nName:László Kovács 1933, characters:None, job:cinematographer\\nName:Craig Herring None, characters:None, job:editor\\nName:Pembroke J. Herring 1930, characters:None, job:editor\\nName:Howard Feuer 1948, characters:None, job:casting_director\\nName:Jackson De Govia 1941, characters:None, job:production_designer\\n    ', '\\nTitle: Four\\'s a Crowd (1938)\\nType: movie\\nRuntime: 93.0 minutes\\nGenres: Comedy,Romance\\nIMDb Rating: 6.3 (Votes: 1380)\\n\\nCast & Crew:\\nName:Errol Flynn 1909, characters:[\"Bob Lansford\"], job:actor\\nName:Olivia de Havilland 1916, characters:[\"Lorri Dillingwell\"], job:actress\\nName:Rosalind Russell 1907, characters:[\"Jean Christy\"], job:actress\\nName:Patric Knowles 1911, characters:[\"Patterson Buckley\"], job:actor\\nName:Walter Connolly 1887, characters:[\"John P. Dillingwell\"], job:actor\\nName:Hugh Herbert 1884, characters:[\"Jenkins\"], job:actor\\nName:Melville Cooper 1896, characters:[\"Bingham\"], job:actor\\nName:Franklin Pangborn 1889, characters:[\"Preston\"], job:actor\\nName:Herman Bing 1889, characters:[\"Barber\"], job:actor\\nName:Margaret Hamilton 1902, characters:[\"Amy\"], job:actress\\nName:Michael Curtiz 1886, characters:None, job:director\\nName:Casey Robinson 1903, characters:None, job:writer\\nName:Sig Herzig 1897, characters:None, job:writer\\nName:Wallace Sullivan 1902, characters:None, job:writer\\nName:Ernest Haller 1896, characters:None, job:cinematographer\\nName:Clarence Kolster 1895, characters:None, job:editor\\n    ']]\n",
      "I don't know.\n"
     ]
    }
   ],
   "source": [
    "reseponse3 = chain.invoke({\"question\": question3})\n",
    "print(reseponse3[\"result\"])\n",
    "print(reseponse3[\"answer\"])"
   ]
  },
  {
   "cell_type": "code",
   "execution_count": 77,
   "metadata": {},
   "outputs": [
    {
     "name": "stdout",
     "output_type": "stream",
     "text": [
      "[['\\nTitle: Computer Chess (2013)\\nType: movie\\nRuntime: 92.0 minutes\\nGenres: Comedy\\nIMDb Rating: 6.2 (Votes: 4906)\\n\\nCast & Crew:\\nName:Kriss Schludermann None, characters:[\"ADVANTAGE Member\"], job:actor\\nName:Tom Fletcher None, characters:[\"DEEP SPEED Member\"], job:actor\\nName:Wiley Wiggins 1976, characters:[\"Beuscher\"], job:actor\\nName:Patrick Riester None, characters:[\"Bishton\"], job:actor\\nName:Kevin Bewersdorf None, characters:[\"Cameraman\"], job:actor\\nName:Gene Williams None, characters:[\"MONSIEUR D\\'ECHECS member\"], job:actor\\nName:Jim Lewis None, characters:[\"John\"], job:actor\\nName:Cole Noppenberg None, characters:[\"CAPA X Member\"], job:actor\\nName:Myles Paige None, characters:[\"Papageorge\"], job:actor\\nName:Gerald Peary None, characters:[\"Henderson\"], job:actor\\nName:Andrew Bujalski 1977, characters:None, job:director\\nName:Andrew Bujalski 1977, characters:None, job:writer\\nName:Houston King None, characters:None, job:producer\\nName:Alex Lipschultz None, characters:None, job:producer\\nName:Matthias Grunsky None, characters:None, job:cinematographer\\nName:Andrew Bujalski 1977, characters:None, job:editor\\nName:Michael Bricker None, characters:None, job:production_designer\\n    ', '\\nTitle: Pawn Sacrifice (2014)\\nType: movie\\nRuntime: 115.0 minutes\\nGenres: Biography,Drama,History\\nIMDb Rating: 7.0 (Votes: 51599)\\n\\nCast & Crew:\\nName:Tobey Maguire 1975, characters:[\"Bobby Fischer\"], job:actor\\nName:Liev Schreiber 1967, characters:[\"Boris Spassky\"], job:actor\\nName:Peter Sarsgaard 1971, characters:[\"Father Bill Lombardy\"], job:actor\\nName:Michael Stuhlbarg 1968, characters:[\"Paul Marshall\"], job:actor\\nName:Edward Zinoviev None, characters:[\"Efim Geller\"], job:actor\\nName:Alexandre Gorchkov None, characters:[\"Iivo Nei\"], job:actor\\nName:Lily Rabe None, characters:[\"Joan Fischer\"], job:actress\\nName:Robin Weigert 1969, characters:[\"Regina Fischer\"], job:actress\\nName:Seamus Davey-Fitzpatrick 1998, characters:[\"Teenage Bobby Fischer\"], job:actor\\nName:Aiden Lovekamp None, characters:[\"Young Bobby Fischer\"], job:actor\\nName:Edward Zwick 1952, characters:None, job:director\\nName:Steven Knight 1959, characters:None, job:writer\\nName:Stephen J. Rivele 1949, characters:None, job:writer\\nName:Christopher Wilkinson 1950, characters:None, job:writer\\nName:Gail Katz None, characters:None, job:producer\\nName:Tobey Maguire 1975, characters:None, job:producer\\nName:Edward Zwick 1952, characters:None, job:producer\\nName:James Newton Howard 1951, characters:None, job:composer\\nName:Bradford Young 1977, characters:None, job:cinematographer\\nName:Steven Rosenblum None, characters:None, job:editor\\nName:Kathleen Chopin None, characters:None, job:casting_director\\nName:Andrea Kenyon None, characters:None, job:casting_director\\nName:Victoria Thomas None, characters:None, job:casting_director\\nName:Randi Wells None, characters:None, job:casting_director\\nName:Isabelle Guay None, characters:None, job:production_designer\\n    ', '\\nTitle: Chess Story (2021)\\nType: movie\\nRuntime: 110.0 minutes\\nGenres: Drama,Thriller,War\\nIMDb Rating: 6.8 (Votes: 5083)\\n\\nCast & Crew:\\nName:Oliver Masucci 1968, characters:[\"Dr. Josef Bartok\"], job:actor\\nName:Dieter Bernhardt None, characters:[\"Fahrer\"], job:actor\\nName:Elias Gabele None, characters:[\"Passkontrolleur am Hafen\"], job:actor\\nName:Birgit Minichmayr 1977, characters:[\"Anna Bartok\"], job:actress\\nName:Rafael Stachowiak 1981, characters:[\"Schiffskellner Harry\"], job:actor\\nName:Isa Hochgerner None, characters:[\"Köchin\"], job:actress\\nName:Maresi Riegner 1991, characters:[\"Dienstmädchen Klara\"], job:actress\\nName:Anton Rattinger 1951, characters:[\"Fahrer Max\"], job:actor\\nName:Aron Eichhorn None, characters:[\"Demonstrant\"], job:actor\\nName:Johannes Zeiler 1970, characters:[\"Dr. Fink\"], job:actor\\nName:Philipp Stölzl 1967, characters:None, job:director\\nName:Eldar Grigorian 1982, characters:None, job:writer\\nName:Stefan Zweig 1881, characters:None, job:writer\\nName:Tobias Walker None, characters:None, job:producer\\nName:Philipp Worm None, characters:None, job:producer\\nName:Ingo Frenzel 1966, characters:None, job:composer\\nName:Thomas W. Kiennast 1976, characters:None, job:cinematographer\\nName:Sven Budelmann 1973, characters:None, job:editor\\nName:Simone Bär 1965, characters:None, job:casting_director\\nName:Matthias Müsse 1966, characters:None, job:production_designer\\n    ']]\n",
      "Pawn Sacrifice (2014) and Chess Story (2021) are two popular movies about chess.\n"
     ]
    }
   ],
   "source": [
    "reseponse4 = chain.invoke({\"question\": question4})\n",
    "print(reseponse4[\"result\"])\n",
    "print(reseponse4[\"answer\"])"
   ]
  }
 ],
 "metadata": {
  "kernelspec": {
   "display_name": ".venv",
   "language": "python",
   "name": "python3"
  },
  "language_info": {
   "codemirror_mode": {
    "name": "ipython",
    "version": 3
   },
   "file_extension": ".py",
   "mimetype": "text/x-python",
   "name": "python",
   "nbconvert_exporter": "python",
   "pygments_lexer": "ipython3",
   "version": "3.13.2"
  }
 },
 "nbformat": 4,
 "nbformat_minor": 2
}
