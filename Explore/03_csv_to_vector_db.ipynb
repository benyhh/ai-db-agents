{
 "cells": [
  {
   "cell_type": "code",
   "execution_count": 1,
   "metadata": {},
   "outputs": [],
   "source": [
    "import chromadb\n",
    "import tiktoken\n",
    "from pyprojroot import here\n",
    "from langchain_openai import OpenAIEmbeddings\n",
    "import pandas as pd"
   ]
  },
  {
   "cell_type": "markdown",
   "metadata": {},
   "source": [
    "# Embedding and saving as vector db using ChromaDB"
   ]
  },
  {
   "cell_type": "code",
   "execution_count": 3,
   "metadata": {},
   "outputs": [],
   "source": [
    "chroma_client = chromadb.PersistentClient(path=str(here(\"data/db/chroma\")))\n"
   ]
  },
  {
   "cell_type": "code",
   "execution_count": 5,
   "metadata": {},
   "outputs": [],
   "source": [
    "try:\n",
    "    collection = chroma_client.create_collection(name=\"imdb_sample\")\n",
    "except:\n",
    "    collection = chroma_client.get_collection(\"imdb_sample\")"
   ]
  },
  {
   "cell_type": "code",
   "execution_count": 6,
   "metadata": {},
   "outputs": [],
   "source": [
    "df_movie_data = pd.read_csv(here(\"data/imdb_movies_100k.csv\"))"
   ]
  },
  {
   "cell_type": "code",
   "execution_count": 7,
   "metadata": {},
   "outputs": [],
   "source": [
    "embedding_client = OpenAIEmbeddings(model=\"text-embedding-3-small\")"
   ]
  },
  {
   "cell_type": "code",
   "execution_count": 8,
   "metadata": {},
   "outputs": [
    {
     "data": {
      "text/plain": [
       "5"
      ]
     },
     "execution_count": 8,
     "metadata": {},
     "output_type": "execute_result"
    }
   ],
   "source": [
    "def count_tokens(text, model=\"text-embedding-3-small\"):\n",
    "    encoding = tiktoken.encoding_for_model(model)\n",
    "    return len(encoding.encode(text))\n",
    "\n",
    "count_tokens(\"This is a test.\")"
   ]
  },
  {
   "cell_type": "code",
   "execution_count": 9,
   "metadata": {},
   "outputs": [],
   "source": [
    "def format_movie_data(movie):\n",
    "    return f\"\"\"\n",
    "Title: {movie['primaryTitle']} ({movie['startYear']})\n",
    "Type: {movie['titleType']}\n",
    "Runtime: {movie['runtimeMinutes']} minutes\n",
    "Genres: {movie['genres']}\n",
    "IMDb Rating: {movie['averageRating']} (Votes: {movie['numVotes']})\n",
    "\n",
    "Cast & Crew:\n",
    "{movie['cast_info']}\n",
    "\"\"\""
   ]
  },
  {
   "cell_type": "markdown",
   "metadata": {},
   "source": [
    "### Checking how many tokens the data is"
   ]
  },
  {
   "cell_type": "code",
   "execution_count": 10,
   "metadata": {},
   "outputs": [
    {
     "name": "stdout",
     "output_type": "stream",
     "text": [
      "Average per movie: 416.1012658227848\n",
      "Total tokens: 41583080\n"
     ]
    }
   ],
   "source": [
    "token_count = []\n",
    "for index, row in df_movie_data.iterrows():\n",
    "    text = format_movie_data(row)\n",
    "    tokens = count_tokens(text)\n",
    "    token_count.append(tokens)\n",
    "    \n",
    "print(\"Average per movie:\", sum(token_count) / len(token_count))\n",
    "print(\"Total tokens:\", sum(token_count))"
   ]
  },
  {
   "cell_type": "markdown",
   "metadata": {},
   "source": [
    "#### Embedding one row at the time takes a really long time -> Batch embeddings \n",
    "Here, we embed 20 rows as a sample"
   ]
  },
  {
   "cell_type": "code",
   "execution_count": 11,
   "metadata": {},
   "outputs": [],
   "source": [
    "docs = []\n",
    "metadatas = []\n",
    "ids = []\n",
    "embeddings = []\n",
    "\n",
    "for index, row in df_movie_data.iloc[:20].iterrows():\n",
    "    text = format_movie_data(row)\n",
    "    embedding = embedding_client.embed_query(text)\n",
    "    \n",
    "    embeddings.append(embedding)\n",
    "    docs.append(text)\n",
    "    metadatas.append({\"source\": \"imdb_movies_100k\"})\n",
    "    ids.append(f\"{index}\")"
   ]
  },
  {
   "cell_type": "code",
   "execution_count": 12,
   "metadata": {},
   "outputs": [],
   "source": [
    "collection.add(ids=ids, documents=docs, metadatas=metadatas, embeddings=embeddings)\n"
   ]
  },
  {
   "cell_type": "code",
   "execution_count": 13,
   "metadata": {},
   "outputs": [
    {
     "name": "stdout",
     "output_type": "stream",
     "text": [
      "Number of vectors in vectordb: 20\n"
     ]
    }
   ],
   "source": [
    "print(\"Number of vectors in vectordb:\", collection.count())"
   ]
  }
 ],
 "metadata": {
  "kernelspec": {
   "display_name": ".venv",
   "language": "python",
   "name": "python3"
  },
  "language_info": {
   "codemirror_mode": {
    "name": "ipython",
    "version": 3
   },
   "file_extension": ".py",
   "mimetype": "text/x-python",
   "name": "python",
   "nbconvert_exporter": "python",
   "pygments_lexer": "ipython3",
   "version": "3.13.2"
  }
 },
 "nbformat": 4,
 "nbformat_minor": 2
}
