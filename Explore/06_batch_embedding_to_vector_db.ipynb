{
 "cells": [
  {
   "cell_type": "code",
   "execution_count": null,
   "metadata": {},
   "outputs": [
    {
     "data": {
      "text/plain": [
       "True"
      ]
     },
     "execution_count": 5,
     "metadata": {},
     "output_type": "execute_result"
    }
   ],
   "source": [
    "import chromadb\n",
    "from pyprojroot import here\n",
    "from dotenv import load_dotenv\n",
    "import pandas as pd\n",
    "import json\n",
    "import chromadb\n",
    "load_dotenv()"
   ]
  },
  {
   "cell_type": "markdown",
   "metadata": {},
   "source": [
    "### Create a vector db with all the batch embeddings"
   ]
  },
  {
   "cell_type": "code",
   "execution_count": 6,
   "metadata": {},
   "outputs": [],
   "source": [
    "chroma_client = chromadb.PersistentClient(path=str(here(\"data/db/chroma\")))\n",
    "try:\n",
    "    collection = chroma_client.create_collection(name=\"imdb\")\n",
    "except:\n",
    "    collection = chroma_client.get_collection(\"imdb\")"
   ]
  },
  {
   "cell_type": "code",
   "execution_count": 7,
   "metadata": {},
   "outputs": [],
   "source": [
    "\n",
    "for batch_i in range(1,16):\n",
    "    embedding = pd.read_csv(here(f'data/embeddings/embeddings_batch_{batch_i}.csv'))\n",
    "    movie_batch = pd.read_json(here(f'data/movie_batches/movie_batch_{batch_i}.jsonl'), lines=True)\n",
    "    movie_batch = pd.concat([movie_batch.drop(columns=['body']), pd.json_normalize(movie_batch['body'])], axis=1)\n",
    "    \n",
    "    merged = pd.merge(movie_batch, embedding, left_on='custom_id', right_on='custom_id')\n",
    "\n",
    "\n",
    "    docs = []\n",
    "    metadatas = []\n",
    "    ids = []\n",
    "    embeddings = []\n",
    "\n",
    "    for index, row in merged.iterrows():\n",
    "        embedding = json.loads(row['embedding'])\n",
    "        embeddings.append(embedding)\n",
    "        docs.append(row['input'])\n",
    "        metadatas.append({\"source\": \"imdb_movies_100k\"})\n",
    "        ids.append(row['custom_id'])\n",
    "        \n",
    "    collection.add(ids=ids, documents=docs, metadatas=metadatas, embeddings=embeddings)\n",
    "        "
   ]
  }
 ],
 "metadata": {
  "kernelspec": {
   "display_name": ".venv",
   "language": "python",
   "name": "python3"
  },
  "language_info": {
   "codemirror_mode": {
    "name": "ipython",
    "version": 3
   },
   "file_extension": ".py",
   "mimetype": "text/x-python",
   "name": "python",
   "nbconvert_exporter": "python",
   "pygments_lexer": "ipython3",
   "version": "3.13.2"
  }
 },
 "nbformat": 4,
 "nbformat_minor": 2
}
