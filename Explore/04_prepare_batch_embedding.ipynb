{
 "cells": [
  {
   "cell_type": "code",
   "execution_count": null,
   "metadata": {},
   "outputs": [
    {
     "data": {
      "text/plain": [
       "True"
      ]
     },
     "execution_count": 31,
     "metadata": {},
     "output_type": "execute_result"
    }
   ],
   "source": [
    "import pandas as pd\n",
    "import json\n",
    "from dotenv import load_dotenv\n",
    "import os\n",
    "from openai import OpenAI\n",
    "import tiktoken\n",
    "from pyprojroot import here\n",
    "\n",
    "load_dotenv()"
   ]
  },
  {
   "cell_type": "code",
   "execution_count": 26,
   "metadata": {},
   "outputs": [],
   "source": [
    "os.environ['OPENAI_API_KEY'] = os.getenv(\"OPENAI_API_KEY\")"
   ]
  },
  {
   "cell_type": "code",
   "execution_count": 10,
   "metadata": {},
   "outputs": [],
   "source": [
    "client = OpenAI() # This automagically uses the key from the environment variable"
   ]
  },
  {
   "cell_type": "code",
   "execution_count": 11,
   "metadata": {},
   "outputs": [],
   "source": [
    "df = pd.read_csv(here('data/imdb_movies_100k.csv'))"
   ]
  },
  {
   "cell_type": "code",
   "execution_count": 12,
   "metadata": {},
   "outputs": [],
   "source": [
    "def format_movie_data(movie):\n",
    "    return f\"\"\"\n",
    "Title: {movie['primaryTitle']} ({movie['startYear']})\n",
    "Type: {movie['titleType']}\n",
    "Runtime: {movie['runtimeMinutes']} minutes\n",
    "Genres: {movie['genres']}\n",
    "IMDb Rating: {movie['averageRating']} (Votes: {movie['numVotes']})\n",
    "\n",
    "Cast & Crew:\n",
    "{movie['cast_info']}\n",
    "    \"\"\""
   ]
  },
  {
   "cell_type": "markdown",
   "metadata": {},
   "source": [
    "#### Transforming the data the correct format for the OpenAI batch embedding endpoint"
   ]
  },
  {
   "cell_type": "code",
   "execution_count": 13,
   "metadata": {},
   "outputs": [],
   "source": [
    "batch_data = [{\n",
    "    \"custom_id\": f\"movie-{i}\",\n",
    "    \"method\": \"POST\",\n",
    "    \"url\":\"/v1/embeddings\",\n",
    "    \"body\": {\n",
    "        \"model\": \"text-embedding-3-small\",\n",
    "        \"input\": format_movie_data(row)\n",
    "    }\n",
    "    } for i, row in df.iterrows()]"
   ]
  },
  {
   "cell_type": "code",
   "execution_count": 14,
   "metadata": {},
   "outputs": [
    {
     "data": {
      "text/plain": [
       "99935"
      ]
     },
     "execution_count": 14,
     "metadata": {},
     "output_type": "execute_result"
    }
   ],
   "source": [
    "len(batch_data)"
   ]
  },
  {
   "cell_type": "code",
   "execution_count": 15,
   "metadata": {},
   "outputs": [],
   "source": [
    "def count_tokens(text, model=\"text-embedding-3-small\"):\n",
    "    encoding = tiktoken.encoding_for_model(model)\n",
    "    return len(encoding.encode(text))"
   ]
  },
  {
   "cell_type": "markdown",
   "metadata": {},
   "source": [
    "### Batch embedding limits\n",
    "The batch embedding endpoint only allows for 3 million tokens being queued for embedding simultaneously. Therefore, we cannot upload all the batches at the same time. \n",
    "\n",
    "We write all the batches to separate files so that they are ready for upload"
   ]
  },
  {
   "cell_type": "code",
   "execution_count": 13,
   "metadata": {},
   "outputs": [],
   "source": [
    "n_batches = 15 # 41 million token / 15 batches is less than 3 million tokens per batch"
   ]
  },
  {
   "cell_type": "code",
   "execution_count": null,
   "metadata": {},
   "outputs": [],
   "source": [
    "n_rows = len(batch_data)\n",
    "batch_size = n_rows / n_batches + n_rows % n_batches\n",
    "for i in range(n_batches):\n",
    "    start_index = i * batch_size\n",
    "    end_index = min((i + 1) * batch_size, n_rows)\n",
    "    \n",
    "    with open(here(f\"data/movie_batches/movie_batch_{i+1}.jsonl\"), \"w\") as f:\n",
    "        for entry in batch_data[start_index:end_index]:\n",
    "            f.write(json.dumps(entry) + \"\\n\")"
   ]
  }
 ],
 "metadata": {
  "kernelspec": {
   "display_name": ".venv",
   "language": "python",
   "name": "python3"
  },
  "language_info": {
   "codemirror_mode": {
    "name": "ipython",
    "version": 3
   },
   "file_extension": ".py",
   "mimetype": "text/x-python",
   "name": "python",
   "nbconvert_exporter": "python",
   "pygments_lexer": "ipython3",
   "version": "3.13.2"
  }
 },
 "nbformat": 4,
 "nbformat_minor": 2
}
